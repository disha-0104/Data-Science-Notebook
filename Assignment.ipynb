{
 "cells": [
  {
   "cell_type": "markdown",
   "id": "68a74579-2551-4c82-afc3-d505108a236c",
   "metadata": {},
   "source": [
    "# Data Science Notebook"
   ]
  },
  {
   "cell_type": "markdown",
   "id": "db2e9dcd-ec59-4feb-8111-a3c0ae3cb1b9",
   "metadata": {},
   "source": [
    "## Introduction\n",
    "This notebook covers various foundational concepts in Data Science, including languages, libraries, and tools.\n"
   ]
  },
  {
   "cell_type": "markdown",
   "id": "1be6949a-23ee-4355-b7c0-a65788a4ea62",
   "metadata": {},
   "source": [
    "## Data Science Languages\n",
    "- Python\n",
    "- R\n",
    "- SQL\n",
    "- Julia\n",
    "- Java\n"
   ]
  },
  {
   "cell_type": "markdown",
   "id": "1434344d-91c3-48f7-8b36-54eaacc1aeaf",
   "metadata": {},
   "source": [
    "## Data Science Libraries\n",
    "- NumPy\n",
    "- Pandas\n",
    "- Scikit-Learn\n",
    "- TensorFlow\n",
    "- Matplotlib\n"
   ]
  },
  {
   "cell_type": "markdown",
   "id": "75d75d8f-36b4-48b0-abd7-976054cbe4b2",
   "metadata": {},
   "source": [
    "## Data Science Tools\n",
    "| Tool         | Purpose               |\n",
    "|--------------|-----------------------|\n",
    "| Jupyter      | Notebook environment  |\n",
    "| RStudio      | IDE for R             |\n",
    "| Apache Spark | Big data processing   |\n",
    "| TensorFlow   | Deep learning         |\n"
   ]
  },
  {
   "cell_type": "markdown",
   "id": "a66df1ab-4163-4a5f-a676-eb793f3b97aa",
   "metadata": {},
   "source": [
    "## Arithmetic Expression Examples\n",
    "Below are examples of basic arithmetic expressions, such as addition and multiplication.\n"
   ]
  },
  {
   "cell_type": "markdown",
   "id": "65905972-f501-4fda-895f-23cbddb000c9",
   "metadata": {},
   "source": [
    "# Multiply and add numbers\n",
    "(5 * 4) + 3\n"
   ]
  },
  {
   "cell_type": "code",
   "execution_count": 9,
   "id": "8906a81d-6b33-48d3-af90-5163d9da9137",
   "metadata": {},
   "outputs": [
    {
     "data": {
      "text/plain": [
       "23"
      ]
     },
     "execution_count": 9,
     "metadata": {},
     "output_type": "execute_result"
    }
   ],
   "source": [
    "# Multiply and add numbers\n",
    "(5 * 4) + 3\n"
   ]
  },
  {
   "cell_type": "code",
   "execution_count": 11,
   "id": "420e0000-c5be-40a5-9967-dc0af81d20ed",
   "metadata": {},
   "outputs": [
    {
     "data": {
      "text/plain": [
       "2.5"
      ]
     },
     "execution_count": 11,
     "metadata": {},
     "output_type": "execute_result"
    }
   ],
   "source": [
    "# Convert minutes to hours\n",
    "minutes = 150\n",
    "hours = minutes / 60\n",
    "hours\n"
   ]
  },
  {
   "cell_type": "markdown",
   "id": "c9563c45-265b-40b2-946a-100a33ab115c",
   "metadata": {},
   "source": [
    "## Objectives\n",
    "- Learn common data science languages and libraries.\n",
    "- Explore tools used in data science.\n",
    "- Practice basic arithmetic expressions.\n"
   ]
  },
  {
   "cell_type": "markdown",
   "id": "8a402454-aef4-4b2f-9794-97a19a6d8e95",
   "metadata": {},
   "source": [
    "**Author:** Sai Disha G S\n"
   ]
  },
  {
   "cell_type": "code",
   "execution_count": null,
   "id": "f18a3bef-2ea9-4185-8789-9509faed99f4",
   "metadata": {},
   "outputs": [],
   "source": []
  }
 ],
 "metadata": {
  "kernelspec": {
   "display_name": "Python 3 (ipykernel)",
   "language": "python",
   "name": "python3"
  },
  "language_info": {
   "codemirror_mode": {
    "name": "ipython",
    "version": 3
   },
   "file_extension": ".py",
   "mimetype": "text/x-python",
   "name": "python",
   "nbconvert_exporter": "python",
   "pygments_lexer": "ipython3",
   "version": "3.12.4"
  }
 },
 "nbformat": 4,
 "nbformat_minor": 5
}
